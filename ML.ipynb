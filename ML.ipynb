{
 "cells": [
  {
   "cell_type": "code",
   "execution_count": 1,
   "metadata": {
    "collapsed": true
   },
   "outputs": [],
   "source": [
    "import pandas as pd\n",
    "import numpy as np\n",
    "import seaborn as sns\n",
    "import matplotlib.pyplot as plt\n",
    "%matplotlib inline\n",
    "import abroad.machine_learning as ML\n",
    "import os\n",
    "from datetime import datetime"
   ]
  },
  {
   "cell_type": "code",
   "execution_count": 2,
   "metadata": {
    "collapsed": true
   },
   "outputs": [],
   "source": [
    "df7_dir = './data/df_7/'\n",
    "df13_dir = './data/df_13/'"
   ]
  },
  {
   "cell_type": "code",
   "execution_count": 3,
   "metadata": {
    "collapsed": true
   },
   "outputs": [],
   "source": [
    "targets = {\"All\": ['Control', 'Horizontal', 'Vertical', 'Pressure',\n",
    "                         'Frown', 'Ambient Light', 'Torch Light'],\n",
    "          \"Light\":['Control', 'Ambient Light', 'Torch Light'],\n",
    "      \"Motion\":['Control', 'Horizontal', 'Vertical', 'Pressure',\n",
    "                         'Frown']}\n",
    "\n",
    "artefact_key = {\"All\": \" \",\n",
    "               \"Light\": \" light \",\n",
    "               \"Motion\": \" motion \"}"
   ]
  },
  {
   "cell_type": "code",
   "execution_count": 4,
   "metadata": {
    "collapsed": true
   },
   "outputs": [],
   "source": [
    "features = [{\"data\":pd.read_csv(os.path.join(df7_dir,'parallel_features_7_%s.csv'%(x)), index_col=0),\"sensor\": 7, \"targets\":targets[x], \"artefact\": artefact_key[x]} for x  in ['All', 'Light', 'Motion']]"
   ]
  },
  {
   "cell_type": "code",
   "execution_count": null,
   "metadata": {
    "collapsed": true
   },
   "outputs": [],
   "source": [
    "features.extend([{\"data\":pd.read_csv(os.path.join(df13_dir,'parallel_features_13_%s.csv'%(x)), index_col=0),\"sensor\": 13, \"targets\":targets[x], \"artefact\": artefact_key[x]} for x  in ['All', 'Light', 'Motion']])"
   ]
  },
  {
   "cell_type": "code",
   "execution_count": null,
   "metadata": {
    "collapsed": false
   },
   "outputs": [
    {
     "name": "stdout",
     "output_type": "stream",
     "text": [
      "Testing for Sensor 7 - All\n",
      "# Now training for score: \t precision_macro using svr\n"
     ]
    },
    {
     "name": "stderr",
     "output_type": "stream",
     "text": [
      "/home/buck06191/anaconda3/envs/data/lib/python3.5/site-packages/sklearn/metrics/classification.py:1113: UndefinedMetricWarning: Precision is ill-defined and being set to 0.0 in labels with no predicted samples.\n",
      "  'precision', 'predicted', average, warn_for)\n",
      "/home/buck06191/anaconda3/envs/data/lib/python3.5/site-packages/sklearn/metrics/classification.py:1113: UndefinedMetricWarning: Precision is ill-defined and being set to 0.0 in labels with no predicted samples.\n",
      "  'precision', 'predicted', average, warn_for)\n",
      "/home/buck06191/anaconda3/envs/data/lib/python3.5/site-packages/sklearn/metrics/classification.py:1113: UndefinedMetricWarning: Precision is ill-defined and being set to 0.0 in labels with no predicted samples.\n",
      "  'precision', 'predicted', average, warn_for)\n",
      "/home/buck06191/anaconda3/envs/data/lib/python3.5/site-packages/sklearn/metrics/classification.py:1113: UndefinedMetricWarning: Precision is ill-defined and being set to 0.0 in labels with no predicted samples.\n",
      "  'precision', 'predicted', average, warn_for)\n",
      "/home/buck06191/anaconda3/envs/data/lib/python3.5/site-packages/sklearn/metrics/classification.py:1113: UndefinedMetricWarning: Precision is ill-defined and being set to 0.0 in labels with no predicted samples.\n",
      "  'precision', 'predicted', average, warn_for)\n",
      "/home/buck06191/anaconda3/envs/data/lib/python3.5/site-packages/sklearn/metrics/classification.py:1113: UndefinedMetricWarning: Precision is ill-defined and being set to 0.0 in labels with no predicted samples.\n",
      "  'precision', 'predicted', average, warn_for)\n"
     ]
    }
   ],
   "source": [
    "def pipeline(features):\n",
    "    split_data = ML.test_train_split(features['data'])\n",
    "    ML.score_classification(split_data[0], split_data[1])\n",
    "    return True\n",
    "\n",
    "feature_sets= ['Sensor 7 - All', 'Sensor 7 - Light', 'Sensor 7 - Motion', 'Sensor 13 - All', 'Sensor 13 - Light', 'Sensor 13 - Motion']\n",
    "\n",
    "for idx, df in enumerate(features):\n",
    "    print(\"Testing for %s\" % feature_sets[idx])\n",
    "    pipeline(df)\n",
    "    print()"
   ]
  },
  {
   "cell_type": "code",
   "execution_count": null,
   "metadata": {
    "collapsed": true
   },
   "outputs": [],
   "source": []
  }
 ],
 "metadata": {
  "anaconda-cloud": {},
  "kernelspec": {
   "display_name": "Python [conda env:data]",
   "language": "python",
   "name": "conda-env-data-py"
  },
  "language_info": {
   "codemirror_mode": {
    "name": "ipython",
    "version": 3
   },
   "file_extension": ".py",
   "mimetype": "text/x-python",
   "name": "python",
   "nbconvert_exporter": "python",
   "pygments_lexer": "ipython3",
   "version": "3.5.2"
  }
 },
 "nbformat": 4,
 "nbformat_minor": 1
}
